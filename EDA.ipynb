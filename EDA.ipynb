{
  "cells": [
    {
      "cell_type": "code",
      "execution_count": null,
      "id": "646f1682",
      "metadata": {
        "id": "646f1682"
      },
      "outputs": [],
      "source": [
        "import pandas as pd\n",
        "import numpy as np\n",
        "import matplotlib.pyplot as plt\n"
      ]
    },
    {
      "cell_type": "code",
      "execution_count": null,
      "id": "4c5ca3e6",
      "metadata": {
        "id": "4c5ca3e6",
        "outputId": "ca0f8658-9524-4c73-ec11-3eb8dd803cab"
      },
      "outputs": [
        {
          "data": {
            "text/html": [
              "<div>\n",
              "<style scoped>\n",
              "    .dataframe tbody tr th:only-of-type {\n",
              "        vertical-align: middle;\n",
              "    }\n",
              "\n",
              "    .dataframe tbody tr th {\n",
              "        vertical-align: top;\n",
              "    }\n",
              "\n",
              "    .dataframe thead th {\n",
              "        text-align: right;\n",
              "    }\n",
              "</style>\n",
              "<table border=\"1\" class=\"dataframe\">\n",
              "  <thead>\n",
              "    <tr style=\"text-align: right;\">\n",
              "      <th></th>\n",
              "      <th>Unique ID</th>\n",
              "      <th>Datetime</th>\n",
              "      <th>Stop Name</th>\n",
              "      <th>Remote Unit</th>\n",
              "      <th>Line</th>\n",
              "      <th>Connecting Lines</th>\n",
              "      <th>Daytime Routes</th>\n",
              "      <th>North Direction Label</th>\n",
              "      <th>South Direction Label</th>\n",
              "      <th>Division</th>\n",
              "      <th>Structure</th>\n",
              "      <th>Borough</th>\n",
              "      <th>Neighborhood</th>\n",
              "      <th>Latitude</th>\n",
              "      <th>Longitude</th>\n",
              "      <th>Entries</th>\n",
              "      <th>Exits</th>\n",
              "    </tr>\n",
              "  </thead>\n",
              "  <tbody>\n",
              "    <tr>\n",
              "      <th>0</th>\n",
              "      <td>1</td>\n",
              "      <td>2017-02-04 04:00:00</td>\n",
              "      <td>103 St</td>\n",
              "      <td>R180</td>\n",
              "      <td>Lexington Av</td>\n",
              "      <td>6</td>\n",
              "      <td>6</td>\n",
              "      <td>Uptown Bronx</td>\n",
              "      <td>Downtown</td>\n",
              "      <td>IRT</td>\n",
              "      <td>Subway</td>\n",
              "      <td>M</td>\n",
              "      <td>East Harlem</td>\n",
              "      <td>40.790600</td>\n",
              "      <td>-73.947478</td>\n",
              "      <td>403.0</td>\n",
              "      <td>222.0</td>\n",
              "    </tr>\n",
              "    <tr>\n",
              "      <th>1</th>\n",
              "      <td>2</td>\n",
              "      <td>2017-02-04 04:00:00</td>\n",
              "      <td>103 St</td>\n",
              "      <td>R191</td>\n",
              "      <td>Broadway - 7Av</td>\n",
              "      <td>1</td>\n",
              "      <td>1</td>\n",
              "      <td>Uptown Bronx</td>\n",
              "      <td>Downtown</td>\n",
              "      <td>IRT</td>\n",
              "      <td>Subway</td>\n",
              "      <td>M</td>\n",
              "      <td>Upper West Side</td>\n",
              "      <td>40.799446</td>\n",
              "      <td>-73.968379</td>\n",
              "      <td>119.0</td>\n",
              "      <td>145.0</td>\n",
              "    </tr>\n",
              "    <tr>\n",
              "      <th>2</th>\n",
              "      <td>3</td>\n",
              "      <td>2017-02-04 04:00:00</td>\n",
              "      <td>103 St</td>\n",
              "      <td>R314</td>\n",
              "      <td>8th Av - Fulton St</td>\n",
              "      <td>BC</td>\n",
              "      <td>BC</td>\n",
              "      <td>Uptown Bronx</td>\n",
              "      <td>Downtown Brooklyn</td>\n",
              "      <td>IND</td>\n",
              "      <td>Subway</td>\n",
              "      <td>M</td>\n",
              "      <td>Upper West Side</td>\n",
              "      <td>40.796092</td>\n",
              "      <td>-73.961454</td>\n",
              "      <td>55.0</td>\n",
              "      <td>81.0</td>\n",
              "    </tr>\n",
              "    <tr>\n",
              "      <th>3</th>\n",
              "      <td>10</td>\n",
              "      <td>2017-02-04 04:00:00</td>\n",
              "      <td>111 St</td>\n",
              "      <td>R355</td>\n",
              "      <td>Liberty Av</td>\n",
              "      <td>A</td>\n",
              "      <td>A</td>\n",
              "      <td>Manhattan</td>\n",
              "      <td>Lefferts Blvd</td>\n",
              "      <td>IND</td>\n",
              "      <td>Elevated</td>\n",
              "      <td>Q</td>\n",
              "      <td>South Ozone Park/Howard Beach</td>\n",
              "      <td>40.684331</td>\n",
              "      <td>-73.832163</td>\n",
              "      <td>156.0</td>\n",
              "      <td>30.0</td>\n",
              "    </tr>\n",
              "    <tr>\n",
              "      <th>4</th>\n",
              "      <td>11</td>\n",
              "      <td>2017-02-04 04:00:00</td>\n",
              "      <td>116 St</td>\n",
              "      <td>R182</td>\n",
              "      <td>Lexington Av</td>\n",
              "      <td>6</td>\n",
              "      <td>6</td>\n",
              "      <td>Uptown Bronx</td>\n",
              "      <td>Downtown</td>\n",
              "      <td>IRT</td>\n",
              "      <td>Subway</td>\n",
              "      <td>M</td>\n",
              "      <td>East Harlem</td>\n",
              "      <td>40.798629</td>\n",
              "      <td>-73.941617</td>\n",
              "      <td>495.0</td>\n",
              "      <td>303.0</td>\n",
              "    </tr>\n",
              "  </tbody>\n",
              "</table>\n",
              "</div>"
            ],
            "text/plain": [
              "   Unique ID             Datetime Stop Name Remote Unit                Line  \\\n",
              "0          1  2017-02-04 04:00:00    103 St        R180        Lexington Av   \n",
              "1          2  2017-02-04 04:00:00    103 St        R191      Broadway - 7Av   \n",
              "2          3  2017-02-04 04:00:00    103 St        R314  8th Av - Fulton St   \n",
              "3         10  2017-02-04 04:00:00    111 St        R355          Liberty Av   \n",
              "4         11  2017-02-04 04:00:00    116 St        R182        Lexington Av   \n",
              "\n",
              "  Connecting Lines Daytime Routes North Direction Label South Direction Label  \\\n",
              "0                6              6          Uptown Bronx              Downtown   \n",
              "1                1              1          Uptown Bronx              Downtown   \n",
              "2               BC             BC          Uptown Bronx     Downtown Brooklyn   \n",
              "3                A              A             Manhattan         Lefferts Blvd   \n",
              "4                6              6          Uptown Bronx              Downtown   \n",
              "\n",
              "  Division Structure Borough                   Neighborhood   Latitude  \\\n",
              "0      IRT    Subway       M                    East Harlem  40.790600   \n",
              "1      IRT    Subway       M                Upper West Side  40.799446   \n",
              "2      IND    Subway       M                Upper West Side  40.796092   \n",
              "3      IND  Elevated       Q  South Ozone Park/Howard Beach  40.684331   \n",
              "4      IRT    Subway       M                    East Harlem  40.798629   \n",
              "\n",
              "   Longitude  Entries  Exits  \n",
              "0 -73.947478    403.0  222.0  \n",
              "1 -73.968379    119.0  145.0  \n",
              "2 -73.961454     55.0   81.0  \n",
              "3 -73.832163    156.0   30.0  \n",
              "4 -73.941617    495.0  303.0  "
            ]
          },
          "execution_count": 2,
          "metadata": {},
          "output_type": "execute_result"
        }
      ],
      "source": [
        "data = pd.read_csv('NYC_subway_traffic_2017-2021.csv')\n",
        "data.head()"
      ]
    },
    {
      "cell_type": "code",
      "execution_count": null,
      "id": "770c8e65",
      "metadata": {
        "id": "770c8e65",
        "outputId": "2b620310-7a9b-4915-9ca1-cea0ebcc9ce7"
      },
      "outputs": [
        {
          "name": "stdout",
          "output_type": "stream",
          "text": [
            "<class 'pandas.core.frame.DataFrame'>\n",
            "RangeIndex: 4589380 entries, 0 to 4589379\n",
            "Data columns (total 17 columns):\n",
            " #   Column                 Dtype  \n",
            "---  ------                 -----  \n",
            " 0   Unique ID              int64  \n",
            " 1   Datetime               object \n",
            " 2   Stop Name              object \n",
            " 3   Remote Unit            object \n",
            " 4   Line                   object \n",
            " 5   Connecting Lines       object \n",
            " 6   Daytime Routes         object \n",
            " 7   North Direction Label  object \n",
            " 8   South Direction Label  object \n",
            " 9   Division               object \n",
            " 10  Structure              object \n",
            " 11  Borough                object \n",
            " 12  Neighborhood           object \n",
            " 13  Latitude               float64\n",
            " 14  Longitude              float64\n",
            " 15  Entries                float64\n",
            " 16  Exits                  float64\n",
            "dtypes: float64(4), int64(1), object(12)\n",
            "memory usage: 595.2+ MB\n"
          ]
        }
      ],
      "source": [
        "data.info()"
      ]
    },
    {
      "cell_type": "code",
      "execution_count": null,
      "id": "8b7690b7",
      "metadata": {
        "id": "8b7690b7",
        "outputId": "7a6f073f-0c09-47b2-94f6-b30075e2e62d"
      },
      "outputs": [
        {
          "data": {
            "text/plain": [
              "array(['103 St', '111 St', '116 St', '116 St - Columbia University',\n",
              "       '125 St', '135 St', '137 St - City College', '14 St',\n",
              "       '14 St - Union Sq', '155 St', '157 St', '163 St - Amsterdam Av',\n",
              "       '170 St', '174 St', '18 Av', '181 St', '20 Av', '21 St', '219 St',\n",
              "       '225 St', '23 St', '233 St', '238 St', '25 Av', '28 St',\n",
              "       '3 Av - 138 St', '33 St', '36 St',\n",
              "       '42 St - Port Authority Bus Terminal', '46 St', '5 Av/53 St',\n",
              "       '5 Av/59 St', '52 St', '57 St', '62 St', '65 St',\n",
              "       '66 St - Lincoln Center', '68 St - Hunter College', '69 St',\n",
              "       '7 Av', '72 St', '77 St', '79 St', '8 Av', '80 St',\n",
              "       '81 St - Museum of Natural History', '86 St', '88 St', '9 Av',\n",
              "       '96 St', 'Alabama Av', 'Allerton Av', 'Aqueduct - N Conduit Av',\n",
              "       'Astor Pl', 'Avenue I', 'Avenue N', 'Avenue U', 'Bay 50 St',\n",
              "       'Bay Pkwy', 'Baychester Av', 'Beach 105 St', 'Beach 90 St',\n",
              "       'Beach 98 St', 'Bedford Park Blvd', 'Bergen St', 'Botanic Garden',\n",
              "       'Broad Channel', 'Broad St', 'Broadway', 'Broadway-Lafayette St',\n",
              "       'Bronx Park East', 'Brook Av', 'Buhre Av', 'Burke Av', 'Canal St',\n",
              "       'Canarsie - Rockaway Pkwy', 'Cathedral Pkwy',\n",
              "       'Cathedral Pkwy (110 St)', 'Central Av', 'Chauncey St',\n",
              "       'Church Av', 'Cleveland St', 'Clinton - Washington Avs',\n",
              "       'Coney Island - Stillwell Av', 'Cortlandt St', 'Crescent St',\n",
              "       'Cypress Av', 'Delancey St', 'Ditmas Av', 'Dyckman St', 'E 105 St',\n",
              "       \"E 143 St - St Mary's St\", 'E 149 St', 'E 180 St',\n",
              "       'Eastchester - Dyre Av', 'Elder Av', 'Essex St',\n",
              "       'Flatbush Av - Brooklyn College', 'Flushing Av', 'Forest Av',\n",
              "       'Forest Hills - 71 Av', 'Fort Hamilton Pkwy', 'Franklin Av',\n",
              "       'Franklin St', 'Freeman St', 'Fresh Pond Rd', 'Fulton St',\n",
              "       'Gates Av', 'Grand Central - 42 St', 'Gun Hill Rd', 'Halsey St',\n",
              "       'Hewes St', 'Houston St', 'Howard Beach - JFK Airport',\n",
              "       'Hunters Point Av', 'Hunts Point Av', 'Intervale Av',\n",
              "       'Inwood - 207 St', 'Jackson Av', 'Jamaica - Van Wyck',\n",
              "       'Jamaica Center - Parsons/Archer', 'Kings Hwy', 'Kingsbridge Rd',\n",
              "       'Knickerbocker Av', 'Kosciuszko St', 'Lafayette Av', 'Liberty Av',\n",
              "       'Livonia Av', 'Longwood Av', 'Lorimer St', 'Marcy Av',\n",
              "       'Mets - Willets Point', 'Middletown Rd', 'Morris Park',\n",
              "       'Mosholu Pkwy', 'Myrtle - Willoughby Avs', 'Myrtle Av',\n",
              "       'Neptune Av', 'Nereid Av', 'New Lots Av', 'Newkirk Av',\n",
              "       'Newkirk Plaza', 'Northern Blvd', 'Norwood - 205 St', 'Norwood Av',\n",
              "       'Park Pl', 'Parkchester', 'Parkside Av', 'Pelham Pkwy',\n",
              "       'Prospect Av', 'Queens Plaza', 'Ralph Av', 'Rockaway Av',\n",
              "       'Rockaway Blvd', 'Rockaway Park - Beach 116 St', 'Seneca Av',\n",
              "       'Sheepshead Bay', 'Shepherd Av', 'Simpson St', 'South Ferry',\n",
              "       'Sutphin Blvd', 'Sutter Av', 'Tremont Av', 'Utica Av',\n",
              "       'Van Siclen Av', 'W 4 St', 'Wakefield - 241 St', 'Wall St',\n",
              "       'West Farms Sq - E Tremont Av', 'Whitehall St', 'Winthrop St',\n",
              "       'Woodhaven Blvd', 'Woodside - 61 St', 'York St', 'Zerega Av',\n",
              "       '1 Av', '103 St - Corona Plaza', '104 St', '110 St',\n",
              "       '138 St - Grand Concourse', '145 St', '149 St - Grand Concourse',\n",
              "       '167 St', '168 St', '168 St - Washington Hts', '169 St',\n",
              "       '174-175 Sts', '175 St', '176 St', '18 St', '182-183 Sts',\n",
              "       '183 St', '190 St', '191 St', '2 Av', '207 St',\n",
              "       '21 St - Queensbridge', '215 St', '231 St', '25 St', '3 Av',\n",
              "       '3 Av - 149 St', '30 Av', '34 St - 11 Av', '34 St - Herald Sq',\n",
              "       '34 St - Penn Station', '36 Av', '39 Av', '4 Av', '40 St',\n",
              "       '42 St - Bryant Pk', '45 St', '47-50 Sts - Rockefeller Ctr',\n",
              "       '49 St', '5 Av', '50 St', '51 St', '53 St', '55 St',\n",
              "       '57 St - 7 Av', '59 St', '59 St - Columbus Circle', '6 Av',\n",
              "       '63 Dr - Rego Park', '67 Av', '71 St', '74 St - Broadway', '75 Av',\n",
              "       '75 St', '8 St - NYU', '82 St - Jackson Hts',\n",
              "       '85 St - Forest Pkwy', '9 St', '90 St - Elmhurst Av',\n",
              "       'Aqueduct Racetrack', 'Astoria - Ditmars Blvd', 'Astoria Blvd',\n",
              "       'Atlantic Av', 'Atlantic Av - Barclays Ctr', 'Avenue H',\n",
              "       'Avenue J', 'Avenue M', 'Bay Ridge - 95 St', 'Bay Ridge Av',\n",
              "       'Beach 25 St', 'Beach 36 St', 'Beach 44 St', 'Beach 60 St',\n",
              "       'Beach 67 St', 'Bedford - Nostrand Avs', 'Bedford Av',\n",
              "       'Bedford Park Blvd - Lehman College', 'Beverley Rd', 'Beverly Rd',\n",
              "       'Bleecker St', 'Borough Hall', 'Bowery', 'Bowling Green',\n",
              "       'Briarwood - Van Wyck Blvd', 'Brighton Beach', 'Broadway Jct',\n",
              "       'Brooklyn Bridge - City Hall', 'Burnside Av',\n",
              "       'Bushwick Av - Aberdeen St', 'Carroll St', 'Castle Hill Av',\n",
              "       'Central Park North (110 St)', 'Chambers St',\n",
              "       'Christopher St - Sheridan Sq', 'Clark St', 'Classon Av',\n",
              "       'Cortelyou Rd', 'Court Sq', 'Court St', 'Crown Hts - Utica Av',\n",
              "       'Cypress Hills', 'DeKalb Av', 'East Broadway',\n",
              "       'Eastern Pkwy - Brooklyn Museum', 'Elmhurst Av', 'Euclid Av',\n",
              "       'Far Rockaway - Mott Av', 'Flushing - Main St', 'Fordham Rd',\n",
              "       'Graham Av', 'Grand Army Plaza', 'Grand Av - Newtown', 'Grand St',\n",
              "       'Grant Av', 'Greenpoint Av', 'Harlem - 148 St', 'High St',\n",
              "       'Hoyt - Schermerhorn Sts', 'Hoyt St', 'Jackson Hts - Roosevelt Av',\n",
              "       'Jamaica - 179 St', 'Jay St - MetroTech', 'Jefferson St',\n",
              "       'Junction Blvd', 'Kingston - Throop Avs', 'Lexington Av/59 St',\n",
              "       'Lexington Av/63 St', 'Marble Hill - 225 St',\n",
              "       'Middle Village - Metropolitan Av', 'Montrose Av', 'Morgan Av',\n",
              "       'Morrison Av- Sound View', 'Mt Eden Av', 'Myrtle - Wyckoff Avs',\n",
              "       'Neck Rd', 'Nevins St', 'Nostrand Av', 'Ocean Pkwy',\n",
              "       'Ozone Park - Lefferts Blvd', 'Parsons Blvd', 'Pelham Bay Park',\n",
              "       'President St', 'Prince St', 'Prospect Park', 'Queensboro Plaza',\n",
              "       'Rector St', 'Roosevelt Island', 'Saratoga Av', 'Smith - 9 Sts',\n",
              "       'Spring St', 'St Lawrence Av', 'Steinway St', 'Sterling St',\n",
              "       'Sutphin Blvd - Archer Av - JFK Airport', 'Times Sq - 42 St',\n",
              "       'Union St', 'Van Cortlandt Park - 242 St',\n",
              "       'Vernon Blvd - Jackson Av', 'W 8 St - NY Aquarium',\n",
              "       'Westchester Sq - E Tremont Av', 'Whitlock Av', 'Wilson Av',\n",
              "       'Woodlawn', 'Avenue P', 'Avenue X', 'Kingston Av',\n",
              "       'Metropolitan Av', 'Pennsylvania Av', 'Junius St',\n",
              "       'Sutter Av - Rutland Rd'], dtype=object)"
            ]
          },
          "execution_count": 4,
          "metadata": {},
          "output_type": "execute_result"
        }
      ],
      "source": [
        "data['Stop Name'].unique()"
      ]
    },
    {
      "cell_type": "code",
      "execution_count": null,
      "id": "7a29c84b",
      "metadata": {
        "id": "7a29c84b"
      },
      "outputs": [],
      "source": [
        "grouped_data = data.groupby('Stop Name').agg({'Entries': 'sum', 'Exits': 'sum'})"
      ]
    },
    {
      "cell_type": "code",
      "execution_count": null,
      "id": "2331afd1",
      "metadata": {
        "id": "2331afd1"
      },
      "outputs": [],
      "source": [
        "grouped_data['Total Traffic'] = grouped_data['Entries'] + grouped_data['Exits']"
      ]
    },
    {
      "cell_type": "code",
      "execution_count": null,
      "id": "343a67f7",
      "metadata": {
        "id": "343a67f7"
      },
      "outputs": [],
      "source": [
        "top_5_stops = grouped_data.sort_values(by='Total Traffic', ascending=False).head(5)"
      ]
    },
    {
      "cell_type": "code",
      "execution_count": null,
      "id": "63d7c4ed",
      "metadata": {
        "id": "63d7c4ed",
        "outputId": "71a6888f-2795-4dba-9084-3f7052084cc6"
      },
      "outputs": [
        {
          "name": "stdout",
          "output_type": "stream",
          "text": [
            "Top 5 Stops by Total Traffic:\n",
            "                           Entries        Exits  Total Traffic\n",
            "Stop Name                                                     \n",
            "Grand Central - 42 St  143200662.0  133988497.0    277189159.0\n",
            "34 St - Penn Station   134121574.0  130946378.0    265067952.0\n",
            "86 St                  118626419.0  104025063.0    222651482.0\n",
            "14 St - Union Sq       112043823.0  103320244.0    215364067.0\n",
            "23 St                  117018996.0   88402801.0    205421797.0\n"
          ]
        }
      ],
      "source": [
        "print(\"Top 5 Stops by Total Traffic:\")\n",
        "print(top_5_stops)"
      ]
    },
    {
      "cell_type": "code",
      "execution_count": null,
      "id": "5a02a491",
      "metadata": {
        "id": "5a02a491",
        "outputId": "20b3fd5c-38c6-49b7-e4e8-b9ef104cc6f8"
      },
      "outputs": [
        {
          "data": {
            "image/png": "[encoded data removed]",
            "text/plain": [
              "<Figure size 1000x600 with 1 Axes>"
            ]
          },
          "metadata": {},
          "output_type": "display_data"
        }
      ],
      "source": [
        "plt.figure(figsize=(10, 6))\n",
        "\n",
        "top_5_stops['Entries'].plot(kind='bar', color='skyblue', position=0, width=0.1, label='Entries')\n",
        "\n",
        "top_5_stops['Exits'].plot(kind='bar', color='salmon', position=1, width=0.1, label='Exits')\n",
        "\n",
        "top_5_stops['Total Traffic'].plot(kind='bar', color='lightgreen', position=2, width=0.1, label='Total Traffic')\n",
        "\n",
        "plt.title('Top 5 Stops by Traffic')\n",
        "plt.xlabel('Stop Name')\n",
        "plt.ylabel('Count')\n",
        "plt.xticks(rotation=45)\n",
        "plt.legend()\n",
        "plt.show()\n"
      ]
    },
    {
      "cell_type": "markdown",
      "id": "f2adeeed-87d6-4793-8af0-7f4605bac062",
      "metadata": {
        "id": "f2adeeed-87d6-4793-8af0-7f4605bac062"
      },
      "source": [
        "From above, the station \"Grand Central - 42 St\" has the maxium traffic including \"Entries\" and \"Exits\""
      ]
    },
    {
      "cell_type": "code",
      "execution_count": null,
      "id": "99d46d73-54b8-4e6d-ae1c-5cb6ffb7eedd",
      "metadata": {
        "id": "99d46d73-54b8-4e6d-ae1c-5cb6ffb7eedd"
      },
      "outputs": [],
      "source": []
    }
  ],
  "metadata": {
    "kernelspec": {
      "display_name": "Python 3 (ipykernel)",
      "language": "python",
      "name": "python3"
    },
    "language_info": {
      "codemirror_mode": {
        "name": "ipython",
        "version": 3
      },
      "file_extension": ".py",
      "mimetype": "text/x-python",
      "name": "python",
      "nbconvert_exporter": "python",
      "pygments_lexer": "ipython3",
      "version": "3.9.19"
    },
    "colab": {
      "provenance": []
    }
  },
  "nbformat": 4,
  "nbformat_minor": 5
}